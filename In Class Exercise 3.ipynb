{
 "cells": [
  {
   "cell_type": "code",
   "execution_count": 6,
   "metadata": {},
   "outputs": [
    {
     "name": "stdout",
     "output_type": "stream",
     "text": [
      "[24.  21.6 34.7 33.4 36.2 28.7 22.9 27.1 16.5 18.9]\n"
     ]
    }
   ],
   "source": [
    "from sklearn.linear_model import LinearRegression\n",
    "from sklearn.datasets import load_boston\n",
    "\n",
    "boston = load_boston()\n",
    "\n",
    "features = boston.data[:,0:2]\n",
    "target = boston.target\n",
    "\n",
    "#print(features[0:10,])\n",
    "print(target[0:10])"
   ]
  },
  {
   "cell_type": "code",
   "execution_count": 9,
   "metadata": {},
   "outputs": [
    {
     "name": "stdout",
     "output_type": "stream",
     "text": [
      "LinearRegression()\n"
     ]
    }
   ],
   "source": [
    "regression = LinearRegression()\n",
    "model = regression.fit(features,target)\n",
    "print(model)"
   ]
  },
  {
   "cell_type": "code",
   "execution_count": 12,
   "metadata": {},
   "outputs": [
    {
     "name": "stdout",
     "output_type": "stream",
     "text": [
      "[-0.35207832  0.11610909]\n"
     ]
    },
    {
     "data": {
      "text/plain": [
       "22.485628113468223"
      ]
     },
     "execution_count": 12,
     "metadata": {},
     "output_type": "execute_result"
    }
   ],
   "source": [
    "print(model.coef_)\n",
    "model.intercept_"
   ]
  },
  {
   "cell_type": "code",
   "execution_count": 15,
   "metadata": {},
   "outputs": [
    {
     "data": {
      "text/plain": [
       "array([24.57336663, 22.47601285, 22.4760199 , 22.47423134, 22.46131711,\n",
       "       22.47511858, 23.90590677, 23.88609884, 23.86261874, 23.87712436])"
      ]
     },
     "execution_count": 15,
     "metadata": {},
     "output_type": "execute_result"
    }
   ],
   "source": [
    "model.predict(features)[0:10]"
   ]
  },
  {
   "cell_type": "code",
   "execution_count": 20,
   "metadata": {},
   "outputs": [],
   "source": [
    "from sklearn.linear_model import LinearRegression\n",
    "from sklearn.datasets import load_boston\n",
    "from sklearn.preprocessing import PolynomialFeatures\n",
    "\n",
    "interaction = PolynomialFeatures(degree=3,include_bias=False,interaction_only=True)\n",
    "New_Features = interaction.fit_transform(features)"
   ]
  },
  {
   "cell_type": "code",
   "execution_count": 23,
   "metadata": {},
   "outputs": [
    {
     "name": "stdout",
     "output_type": "stream",
     "text": [
      "[[6.320000e-03 1.800000e+01 1.137600e-01]\n",
      " [2.731000e-02 0.000000e+00 0.000000e+00]\n",
      " [2.729000e-02 0.000000e+00 0.000000e+00]\n",
      " [3.237000e-02 0.000000e+00 0.000000e+00]\n",
      " [6.905000e-02 0.000000e+00 0.000000e+00]\n",
      " [2.985000e-02 0.000000e+00 0.000000e+00]\n",
      " [8.829000e-02 1.250000e+01 1.103625e+00]\n",
      " [1.445500e-01 1.250000e+01 1.806875e+00]\n",
      " [2.112400e-01 1.250000e+01 2.640500e+00]\n",
      " [1.700400e-01 1.250000e+01 2.125500e+00]]\n",
      "[6.32e-03 1.80e+01]\n"
     ]
    }
   ],
   "source": [
    "print(New_Features[0:10,])\n",
    "print(features[0,])"
   ]
  },
  {
   "cell_type": "code",
   "execution_count": 26,
   "metadata": {},
   "outputs": [
    {
     "data": {
      "text/plain": [
       "23.634822925734746"
      ]
     },
     "execution_count": 26,
     "metadata": {},
     "output_type": "execute_result"
    }
   ],
   "source": [
    "New_regression = LinearRegression()\n",
    "New_model = regression.fit(New_Features,target)\n",
    "\n",
    "New_model.coef_\n",
    "New_model.intercept_\n",
    "New_model.predict(New_Features)[0]"
   ]
  },
  {
   "cell_type": "code",
   "execution_count": 29,
   "metadata": {},
   "outputs": [
    {
     "name": "stdout",
     "output_type": "stream",
     "text": [
      "[[6.32000000e-03 1.80000000e+01 3.99424000e-05 1.13760000e-01\n",
      "  3.24000000e+02 2.52435968e-07 7.18963200e-04 2.04768000e+00\n",
      "  5.83200000e+03]\n",
      " [2.73100000e-02 0.00000000e+00 7.45836100e-04 0.00000000e+00\n",
      "  0.00000000e+00 2.03687839e-05 0.00000000e+00 0.00000000e+00\n",
      "  0.00000000e+00]\n",
      " [2.72900000e-02 0.00000000e+00 7.44744100e-04 0.00000000e+00\n",
      "  0.00000000e+00 2.03240665e-05 0.00000000e+00 0.00000000e+00\n",
      "  0.00000000e+00]\n",
      " [3.23700000e-02 0.00000000e+00 1.04781690e-03 0.00000000e+00\n",
      "  0.00000000e+00 3.39178331e-05 0.00000000e+00 0.00000000e+00\n",
      "  0.00000000e+00]\n",
      " [6.90500000e-02 0.00000000e+00 4.76790250e-03 0.00000000e+00\n",
      "  0.00000000e+00 3.29223668e-04 0.00000000e+00 0.00000000e+00\n",
      "  0.00000000e+00]\n",
      " [2.98500000e-02 0.00000000e+00 8.91022500e-04 0.00000000e+00\n",
      "  0.00000000e+00 2.65970216e-05 0.00000000e+00 0.00000000e+00\n",
      "  0.00000000e+00]\n",
      " [8.82900000e-02 1.25000000e+01 7.79512410e-03 1.10362500e+00\n",
      "  1.56250000e+02 6.88231507e-04 9.74390512e-02 1.37953125e+01\n",
      "  1.95312500e+03]\n",
      " [1.44550000e-01 1.25000000e+01 2.08947025e-02 1.80687500e+00\n",
      "  1.56250000e+02 3.02032925e-03 2.61183781e-01 2.25859375e+01\n",
      "  1.95312500e+03]\n",
      " [2.11240000e-01 1.25000000e+01 4.46223376e-02 2.64050000e+00\n",
      "  1.56250000e+02 9.42602259e-03 5.57779220e-01 3.30062500e+01\n",
      "  1.95312500e+03]\n",
      " [1.70040000e-01 1.25000000e+01 2.89136016e-02 2.12550000e+00\n",
      "  1.56250000e+02 4.91646882e-03 3.61420020e-01 2.65687500e+01\n",
      "  1.95312500e+03]]\n",
      "[6.32e-03 1.80e+01]\n"
     ]
    }
   ],
   "source": [
    "from sklearn.linear_model import LinearRegression\n",
    "from sklearn.datasets import load_boston\n",
    "from sklearn.preprocessing import PolynomialFeatures\n",
    "\n",
    "interaction = PolynomialFeatures(degree=3,include_bias=False,interaction_only=False)\n",
    "InClassExercise3 = interaction.fit_transform(features)\n",
    "\n",
    "print(InClassExercise3[0:10,])\n",
    "print(features[0,])"
   ]
  }
 ],
 "metadata": {
  "kernelspec": {
   "display_name": "Python 3",
   "language": "python",
   "name": "python3"
  },
  "language_info": {
   "codemirror_mode": {
    "name": "ipython",
    "version": 3
   },
   "file_extension": ".py",
   "mimetype": "text/x-python",
   "name": "python",
   "nbconvert_exporter": "python",
   "pygments_lexer": "ipython3",
   "version": "3.8.5"
  }
 },
 "nbformat": 4,
 "nbformat_minor": 4
}
