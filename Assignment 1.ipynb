{
 "cells": [
  {
   "cell_type": "code",
   "execution_count": 36,
   "metadata": {},
   "outputs": [],
   "source": [
    "def FirstFunction(x):\n",
    "    InitialIndex=0\n",
    "    EndingIndex=1\n",
    "    Result=[]\n",
    "    \n",
    "    for i in x:\n",
    "        if i!=\" \":\n",
    "            EndingIndex=EndingIndex+1\n",
    "        else:\n",
    "            word=x[InitialIndex:(EndingIndex-1)]\n",
    "            Result.append(word)\n",
    "            InitialIndex=EndingIndex\n",
    "            EndingIndex=EndingIndex+1\n",
    "            \n",
    "    word=x[InitialIndex:EndingIndex]\n",
    "    Result.append(word)\n",
    "    \n",
    "    return Result"
   ]
  },
  {
   "cell_type": "code",
   "execution_count": 57,
   "metadata": {},
   "outputs": [
    {
     "name": "stdout",
     "output_type": "stream",
     "text": [
      "['This', 'is', 'my', 'first', 'class,', 'I', 'love', 'my', 'class.']\n"
     ]
    }
   ],
   "source": [
    "Sentence=\"This is my first class, I love my class.\"\n",
    "print(FirstFunction(Sentence))"
   ]
  },
  {
   "cell_type": "code",
   "execution_count": 38,
   "metadata": {},
   "outputs": [],
   "source": [
    "def Preprocessing(x):\n",
    "    x=x.replace(\".\",\"\")\n",
    "    x=x.replace(\",\",\"\")\n",
    "    x=x.replace(\":\",\"\")\n",
    "    x=x.replace(\";\",\"\")\n",
    "    return x"
   ]
  },
  {
   "cell_type": "code",
   "execution_count": 56,
   "metadata": {},
   "outputs": [
    {
     "name": "stdout",
     "output_type": "stream",
     "text": [
      "This is my first class\n"
     ]
    }
   ],
   "source": [
    "SecondSentence=\"This, is my: first. class.\"\n",
    "print(Preprocessing(SecondSentence))"
   ]
  },
  {
   "cell_type": "code",
   "execution_count": 52,
   "metadata": {},
   "outputs": [],
   "source": [
    "def TextMining(x):\n",
    "    FinalList=[]\n",
    "    x=Preprocessing(x)\n",
    "    FinalResult=FirstFunction(x)\n",
    "    \n",
    "    for i in FinalResult:\n",
    "        counter=0\n",
    "        for j in FinalResult:\n",
    "            if i==j:\n",
    "                counter=counter+1\n",
    "            \n",
    "        y=(i,counter)\n",
    "        FinalList.append(y)\n",
    "        \n",
    "    return FinalList"
   ]
  },
  {
   "cell_type": "code",
   "execution_count": 54,
   "metadata": {},
   "outputs": [
    {
     "name": "stdout",
     "output_type": "stream",
     "text": [
      "[('This', 1), ('is', 1), ('my', 2), ('first', 1), ('class', 3), ('I', 1), ('love', 1), ('my', 2), ('class', 3), ('In', 1), ('this', 1), ('class', 3), ('we', 1), ('learn', 1), ('programing', 1)]\n"
     ]
    }
   ],
   "source": [
    "ThirdSentence=\"This is my first class, I love my class. In this class we learn programing\"\n",
    "print(TextMining(ThirdSentence))"
   ]
  },
  {
   "cell_type": "code",
   "execution_count": null,
   "metadata": {},
   "outputs": [],
   "source": []
  }
 ],
 "metadata": {
  "kernelspec": {
   "display_name": "Python 3",
   "language": "python",
   "name": "python3"
  },
  "language_info": {
   "codemirror_mode": {
    "name": "ipython",
    "version": 3
   },
   "file_extension": ".py",
   "mimetype": "text/x-python",
   "name": "python",
   "nbconvert_exporter": "python",
   "pygments_lexer": "ipython3",
   "version": "3.8.5"
  }
 },
 "nbformat": 4,
 "nbformat_minor": 4
}
