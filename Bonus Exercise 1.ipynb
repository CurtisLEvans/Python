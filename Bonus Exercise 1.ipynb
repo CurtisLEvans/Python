{
 "cells": [
  {
   "cell_type": "code",
   "execution_count": 65,
   "metadata": {},
   "outputs": [
    {
     "name": "stdout",
     "output_type": "stream",
     "text": [
      "Enter # 1\n",
      "Enter another # j\n",
      "error enter again:\n",
      "Enter # j\n",
      "Enter another # j\n",
      "jj\n"
     ]
    }
   ],
   "source": [
    "#function to find if inputs are string or int\n",
    "def intCheck(n):\n",
    "    try:\n",
    "        float(n)\n",
    "    except ValueError:\n",
    "        return False\n",
    "    else:\n",
    "        return float(n).is_integer()\n",
    "    \n",
    "\n",
    "\n",
    "def main():\n",
    "    check = True\n",
    "    \n",
    "    while check:\n",
    "        #gets two parameters (arguments) from the user\n",
    "        x = input(\"Enter # \")\n",
    "        y = input(\"Enter another # \")\n",
    "\n",
    "        #checks if parameters are both int or string or mismatched\n",
    "        checkX = intCheck(x)\n",
    "        checkY = intCheck(y)\n",
    "\n",
    "        #both int\n",
    "        if checkX == True and checkY == True:\n",
    "            check = False\n",
    "            #print('both int')\n",
    "            x=int(x)\n",
    "            y=int(y)\n",
    "            z=(x**y)\n",
    "            return z\n",
    "\n",
    "        #both string\n",
    "        elif checkX == False and checkY == False:\n",
    "            check = False\n",
    "            #print('both string')\n",
    "            z=x+y\n",
    "            return z\n",
    "\n",
    "        #both mismatched    \n",
    "        else:\n",
    "            print('error enter again:')\n",
    "\n",
    "print(main())"
   ]
  },
  {
   "cell_type": "code",
   "execution_count": 53,
   "metadata": {},
   "outputs": [
    {
     "name": "stdout",
     "output_type": "stream",
     "text": [
      "username:curtis\n",
      "password:123\n",
      "username & password match:  True\n"
     ]
    }
   ],
   "source": [
    "#dictionary w/ username and password\n",
    "user = {\"curtis\":\"123\"}\n",
    "#-------------------------------------\n",
    "\n",
    "\n",
    "#function gets username and password then checks dictionary\n",
    "def checkUser(user):\n",
    "    check = True\n",
    "    match = False\n",
    "    \n",
    "    #as long as check is true continue with while loop\n",
    "    while check:\n",
    "        #get username & password\n",
    "        username = input(\"username:\") \n",
    "        password = input(\"password:\")\n",
    "        \n",
    "        #check username from dictionary\n",
    "        if username in user.keys():\n",
    "            #stop loop\n",
    "            check = False \n",
    "            #find username from dictionary\n",
    "            pwd = user[username]\n",
    "        \n",
    "            #if password matches\n",
    "            if password == pwd:\n",
    "                match = True \n",
    "   \n",
    "            #set match to False because username does not match password\n",
    "            else:\n",
    "                match = False \n",
    "    \n",
    "        #if username not found\n",
    "        else:\n",
    "            #error message\n",
    "            print(\"user not found\")\n",
    "            #continue loop to get new username & password\n",
    "            check = True \n",
    "    \n",
    "    #returns if username and password matched (true/false)\n",
    "    return match\n",
    "\n",
    "\n",
    "#check username & password \n",
    "check = checkUser(user) \n",
    "\n",
    "#print true or false\n",
    "print(\"username & password match: \",check)"
   ]
  },
  {
   "cell_type": "code",
   "execution_count": 13,
   "metadata": {},
   "outputs": [
    {
     "name": "stdout",
     "output_type": "stream",
     "text": [
      "amount:  0.36\n",
      "quarters:  1.0\n",
      "dimes:  1.0\n",
      "pennies:  1.0\n"
     ]
    }
   ],
   "source": [
    "amount = 0.36\n",
    "\n",
    "print('amount: ',amount)\n",
    "\n",
    "quarters = amount//0.25\n",
    "amount = amount - (quarters*0.25) \n",
    "\n",
    "print('quarters: ',quarters)\n",
    "\n",
    "amount = round(amount,2)\n",
    "dimes = amount//0.10\n",
    "amount = amount - (dimes*0.1) \n",
    "\n",
    "print('dimes: ',dimes)\n",
    "\n",
    "amount = round(amount,2)\n",
    "pennies = amount//0.01\n",
    "\n",
    "print('pennies: ',pennies)"
   ]
  },
  {
   "cell_type": "code",
   "execution_count": 33,
   "metadata": {},
   "outputs": [
    {
     "name": "stdout",
     "output_type": "stream",
     "text": [
      "amount:  0.36\n",
      "quarters:  1.0\n",
      "dimes:  1.0\n",
      "pennies:  1.0\n"
     ]
    }
   ],
   "source": [
    "amount = 0.36\n",
    "availableQuarters=1\n",
    "availableDimes=1\n",
    "availablePennies=1\n",
    "\n",
    "print('amount: ',amount)\n",
    "\n",
    "quarters = amount//0.25\n",
    "\n",
    "if quarters <= availableQuarters:\n",
    "    amount = amount - (quarters*0.25) \n",
    "    print('quarters: ',quarters)\n",
    "else:\n",
    "     print('not enough quarters')\n",
    "\n",
    "amount = round(amount,2)\n",
    "\n",
    "\n",
    "dimes = amount//0.10\n",
    "\n",
    "if dimes <= availableDimes:\n",
    "    amount = amount - (dimes*0.1) \n",
    "    print('dimes: ',dimes)\n",
    "else:\n",
    "     print('not enough dimes')\n",
    "\n",
    "\n",
    "amount = round(amount,2)\n",
    "\n",
    "pennies = amount/0.01\n",
    "\n",
    "if pennies <= availablePennies:\n",
    "    print('pennies: ',pennies)\n",
    "else:\n",
    "     print('not enough pennies')"
   ]
  }
 ],
 "metadata": {
  "kernelspec": {
   "display_name": "Python 3",
   "language": "python",
   "name": "python3"
  },
  "language_info": {
   "codemirror_mode": {
    "name": "ipython",
    "version": 3
   },
   "file_extension": ".py",
   "mimetype": "text/x-python",
   "name": "python",
   "nbconvert_exporter": "python",
   "pygments_lexer": "ipython3",
   "version": "3.8.5"
  }
 },
 "nbformat": 4,
 "nbformat_minor": 4
}
